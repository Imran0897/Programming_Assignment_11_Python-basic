{
 "cells": [
  {
   "cell_type": "code",
   "execution_count": 2,
   "id": "d37278af",
   "metadata": {},
   "outputs": [],
   "source": [
    "#1.\n",
    "\n",
    "def split_str_n(s,n):\n",
    "    \n",
    "    k = s.split(\" \")\n",
    "    for i in range(len(k)):\n",
    "        if len(k[i])> n:\n",
    "            print(k[i])"
   ]
  },
  {
   "cell_type": "code",
   "execution_count": 19,
   "id": "14a55443",
   "metadata": {},
   "outputs": [],
   "source": [
    "#2.\n",
    "\n",
    "def remove_ith_str(s,i):\n",
    "    s = s[0:(i-1)]+s[i:]\n",
    "    return s\n",
    "    "
   ]
  },
  {
   "cell_type": "code",
   "execution_count": 24,
   "id": "0e45f8f7",
   "metadata": {},
   "outputs": [],
   "source": [
    "#3.\n",
    "\n",
    "def split_str(s):\n",
    "    k = s.split(\" \")\n",
    "    return k\n",
    "    \n",
    "def join_str(k):\n",
    "    j = \"-\".join(k)\n",
    "    return j"
   ]
  },
  {
   "cell_type": "code",
   "execution_count": 82,
   "id": "7afddcbe",
   "metadata": {},
   "outputs": [],
   "source": [
    "#4.\n",
    "\n",
    "def is_binary_str(s):\n",
    "    \n",
    "    for i in range(len(s)):\n",
    "        if s[i]== '0' or s[i] =='1':\n",
    "            if len(s)== (i+1):\n",
    "                return \"its a binary string\"\n",
    "                break\n",
    "        else:\n",
    "            return \"its not a binary string\"\n",
    "            break\n",
    "    "
   ]
  },
  {
   "cell_type": "code",
   "execution_count": 154,
   "id": "42ec615e",
   "metadata": {},
   "outputs": [],
   "source": [
    "#5.\n",
    "\n",
    "def is_uncommon_word_str(s,t):\n",
    "    word = \"\"\n",
    "\n",
    "    for i in s.split():\n",
    "\n",
    "        if i not in t.split():\n",
    "            word = word +\" \"+ i\n",
    "        else:\n",
    "            pass\n",
    "    for j in t.split():\n",
    "        if j not in s.split():\n",
    "            word = word + \" \"+j\n",
    "    return word\n",
    "            "
   ]
  },
  {
   "cell_type": "code",
   "execution_count": 217,
   "id": "3575bd8b",
   "metadata": {},
   "outputs": [],
   "source": [
    "#6.\n",
    "\n",
    "def duplicate_chr_str(s):\n",
    "    l = set()\n",
    "    for i in s:\n",
    "        if s.count(i)>1:\n",
    "            l.add(i)\n",
    "    return l\n"
   ]
  },
  {
   "cell_type": "code",
   "execution_count": 236,
   "id": "bcc1cc4c",
   "metadata": {},
   "outputs": [],
   "source": [
    "#7.\n",
    "\n",
    "def is_spc_chr_str(s):\n",
    "    s.split()\n",
    "    k = 0\n",
    "    m ='[@_!#$%^&*()<>?/\\|}{~:]'\n",
    "    for i in range(len(s)):\n",
    "        if s[i] in m:\n",
    "            k = k +1\n",
    "    return k\n",
    "            \n",
    "            \n",
    "    "
   ]
  }
 ],
 "metadata": {
  "kernelspec": {
   "display_name": "Python 3 (ipykernel)",
   "language": "python",
   "name": "python3"
  },
  "language_info": {
   "codemirror_mode": {
    "name": "ipython",
    "version": 3
   },
   "file_extension": ".py",
   "mimetype": "text/x-python",
   "name": "python",
   "nbconvert_exporter": "python",
   "pygments_lexer": "ipython3",
   "version": "3.9.7"
  }
 },
 "nbformat": 4,
 "nbformat_minor": 5
}
